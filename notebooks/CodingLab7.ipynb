{
  "cells": [
    {
      "cell_type": "markdown",
      "metadata": {
        "id": "view-in-github",
        "colab_type": "text"
      },
      "source": [
        "<a href=\"https://colab.research.google.com/github/aeldably/Neural_Data_Science_Summer_2025/blob/lab7-aakarsh/notebooks/CodingLab7.ipynb\" target=\"_parent\"><img src=\"https://colab.research.google.com/assets/colab-badge.svg\" alt=\"Open In Colab\"/></a>"
      ]
    },
    {
      "cell_type": "markdown",
      "metadata": {
        "id": "4eMfRIAu0-u3"
      },
      "source": [
        "_Neural Data Science_\n",
        "\n",
        "Lecturer: Dr. Jan Lause, Prof. Dr. Philipp Berens\n",
        "\n",
        "Tutors: Jonas Beck, Fabio Seel, Julius Würzler\n",
        "\n",
        "Summer term 2025\n",
        "\n",
        "Student names: <span style='background: yellow'>*FILL IN YOUR NAMES HERE* </span>\n",
        "\n",
        "LLM Disclaimer: <span style='background: yellow'>*Did you use an LLM to solve this exercise? If yes, which one and where did you use it? [Copilot, Claude, ChatGPT, etc.]* </span>"
      ]
    },
    {
      "cell_type": "markdown",
      "metadata": {
        "id": "JI5tDIop0-u8"
      },
      "source": [
        "# Coding Lab 7 : Transcriptomics"
      ]
    },
    {
      "cell_type": "code",
      "source": [],
      "metadata": {
        "id": "nj_s6T7i1WLT"
      },
      "execution_count": null,
      "outputs": []
    },
    {
      "cell_type": "code",
      "execution_count": null,
      "metadata": {
        "id": "s5OQykni0-u9",
        "outputId": "f74885e7-b592-474e-8a34-588967c598e0"
      },
      "outputs": [
        {
          "name": "stdout",
          "output_type": "stream",
          "text": [
            "Last updated: 2025-06-05 15:03:44CEST\n",
            "\n",
            "Python implementation: CPython\n",
            "Python version       : 3.11.11\n",
            "IPython version      : 9.2.0\n",
            "\n",
            "sklearn: 1.6.1\n",
            "\n",
            "pandas    : 2.2.3\n",
            "numpy     : 1.26.4\n",
            "openTSNE  : 1.0.2\n",
            "matplotlib: 3.9.4\n",
            "\n",
            "Watermark: 2.5.0\n",
            "\n"
          ]
        }
      ],
      "source": [
        "import numpy as np\n",
        "import pylab as plt\n",
        "import pandas as pd\n",
        "import matplotlib.pyplot as plt\n",
        "\n",
        "# We recommend using openTSNE for experiments with t-SNE\n",
        "# https://github.com/pavlin-policar/openTSNE\n",
        "from openTSNE import TSNE\n",
        "\n",
        "%matplotlib inline\n",
        "\n",
        "%load_ext jupyter_black\n",
        "\n",
        "%load_ext watermark\n",
        "%watermark --time --date --timezone --updated --python --iversions --watermark -p sklearn"
      ]
    },
    {
      "cell_type": "code",
      "execution_count": null,
      "metadata": {
        "id": "3zYTNeie0-u_"
      },
      "outputs": [],
      "source": [
        "plt.style.use(\"../matplotlib_style.txt\")"
      ]
    },
    {
      "cell_type": "markdown",
      "metadata": {
        "id": "94jgHVzF0-u_"
      },
      "source": [
        "# Introduction"
      ]
    },
    {
      "cell_type": "markdown",
      "metadata": {
        "id": "Y0f2YydJ0-vA"
      },
      "source": [
        "In this notebook you are going to work with transcriptomics data, in particular single-cell RNA sequencing (scRNA-seq) data from the paper by [Harris et al. (2018)](https://journals.plos.org/plosbiology/article?id=10.1371/journal.pbio.2006387). They recorded the transcriptomes of 3,663 inhibitory cells in the hippocampal area CA1. Their analysis divided these cells into 49 fine-scale clusters coresponding to different cell subtypes. They asigned names to these cluster in a hierarchical fashion according to strongly expressed gene in each clusters. The figure below shows the details of their classification.\n",
        "\n",
        "You will first analyze some of the most relevant statistics of UMI gene counts distributions, and afterwards follow the standard pipeline in the field to produce a visualization of the data."
      ]
    },
    {
      "cell_type": "markdown",
      "metadata": {
        "id": "RkFktpnl0-vA"
      },
      "source": [
        "![image.png](attachment:image.png)"
      ]
    },
    {
      "cell_type": "markdown",
      "metadata": {
        "id": "rwzJST_v0-vB"
      },
      "source": [
        "## Load data"
      ]
    },
    {
      "cell_type": "markdown",
      "metadata": {
        "id": "q7wockyK0-vB"
      },
      "source": [
        "Download the data from ILIAS, move it to the `data/` directory and unzip it there.\n",
        "The read counts can be found in `counts`, with rows corresponding to cells and columns to genes.\n",
        "The cluster assignments for every individual cell can be found in  `clusters`, along with the colors used in the publication in  `clusterColors`."
      ]
    },
    {
      "cell_type": "code",
      "execution_count": null,
      "metadata": {
        "id": "j9aBivat0-vC",
        "outputId": "703d7168-aa8c-4196-cb4d-86498915c6ae"
      },
      "outputs": [
        {
          "name": "stdout",
          "output_type": "stream",
          "text": [
            "(3663, 17965)\n"
          ]
        }
      ],
      "source": [
        "# LOAD HARRIS ET AL DATA\n",
        "\n",
        "# Load gene counts\n",
        "data = pd.read_csv(\"../data/nds_cl_7/harris-data/expression.tsv\", sep=\"\\t\")\n",
        "genes = data.values[:, 0]\n",
        "cells = data.columns[1:-1]\n",
        "counts = data.values[:, 1:-1].transpose().astype(\"int\")\n",
        "data = []\n",
        "\n",
        "# Kick out all genes with all counts = 0\n",
        "genes = genes[counts.sum(axis=0) > 0]\n",
        "counts = counts[:, counts.sum(axis=0) > 0]\n",
        "print(counts.shape)\n",
        "\n",
        "# Load clustering results\n",
        "data = pd.read_csv(\"../data/nds_cl_7/harris-data/analysis_results.tsv\", sep=\"\\t\")\n",
        "clusterNames, clusters = np.unique(data.values[0, 1:-1], return_inverse=True)\n",
        "\n",
        "# Load cluster colors\n",
        "data = pd.read_csv(\"../data/nds_cl_7/harris-data/colormap.txt\", sep=\"\\s+\", header=None)\n",
        "clusterColors = data.values\n",
        "\n",
        "# Note: the color order needs to be reversed to match the publication\n",
        "clusterColors = clusterColors[::-1]\n",
        "\n",
        "# Taken from Figure 1 - we need cluster order to get correct color order\n",
        "clusterOrder = [\n",
        "    \"Sst.No\",\n",
        "    \"Sst.Npy.C\",\n",
        "    \"Sst.Npy.Z\",\n",
        "    \"Sst.Npy.S\",\n",
        "    \"Sst.Npy.M\",\n",
        "    \"Sst.Pnoc.Calb1.I\",\n",
        "    \"Sst.Pnoc.Calb1.P\",\n",
        "    \"Sst.Pnoc.P\",\n",
        "    \"Sst.Erbb4.R\",\n",
        "    \"Sst.Erbb4.C\",\n",
        "    \"Sst.Erbb4.T\",\n",
        "    \"Pvalb.Tac1.N\",\n",
        "    \"Pvalb.Tac1.Ss\",\n",
        "    \"Pvalb.Tac1.Sy\",\n",
        "    \"Pvalb.Tac1.A\",\n",
        "    \"Pvalb.C1ql1.P\",\n",
        "    \"Pvalb.C1ql1.C\",\n",
        "    \"Pvalb.C1ql1.N\",\n",
        "    \"Cacna2d1.Lhx6.R\",\n",
        "    \"Cacna2d1.Lhx6.V\",\n",
        "    \"Cacna2d1.Ndnf.N\",\n",
        "    \"Cacna2d1.Ndnf.R\",\n",
        "    \"Cacna2d1.Ndnf.C\",\n",
        "    \"Calb2.Cry\",\n",
        "    \"Sst.Cry\",\n",
        "    \"Ntng1.S\",\n",
        "    \"Ntng1.R\",\n",
        "    \"Ntng1.C\",\n",
        "    \"Cck.Sema\",\n",
        "    \"Cck.Lmo1.N\",\n",
        "    \"Cck.Calca\",\n",
        "    \"Cck.Lmo1.Vip.F\",\n",
        "    \"Cck.Lmo1.Vip.C\",\n",
        "    \"Cck.Lmo1.Vip.T\",\n",
        "    \"Cck.Ly\",\n",
        "    \"Cck.Cxcl14.Calb1.Tn\",\n",
        "    \"Cck.Cxcl14.Calb1.I\",\n",
        "    \"Cck.Cxcl14.S\",\n",
        "    \"Cck.Cxcl14.Calb1.K\",\n",
        "    \"Cck.Cxcl14.Calb1.Ta\",\n",
        "    \"Cck.Cxcl14.V\",\n",
        "    \"Vip.Crh.P\",\n",
        "    \"Vip.Crh.C1\",\n",
        "    \"Calb2.Vip.G\",\n",
        "    \"Calb2.Vip.I\",\n",
        "    \"Calb2.Vip.Nos1\",\n",
        "    \"Calb2.Cntnap5a.R\",\n",
        "    \"Calb2.Cntnap5a.V\",\n",
        "    \"Calb2.Cntnap5a.I\",\n",
        "]\n",
        "\n",
        "reorder = np.zeros(clusterNames.size) * np.nan\n",
        "for i, c in enumerate(clusterNames):\n",
        "    for j, k in enumerate(clusterOrder):\n",
        "        if c[: len(k)] == k:\n",
        "            reorder[i] = j\n",
        "            break\n",
        "clusterColors = clusterColors[reorder.astype(int)]"
      ]
    },
    {
      "cell_type": "markdown",
      "metadata": {
        "id": "O7lbJkwn0-vC"
      },
      "source": [
        "# Task 1: Data inspection\n",
        "Before we use t-SNE or any other advanced visualization methods on the data, we first want to have a closer look on the data and plot some statistics. For most of the analysis we will compare the data to a Poisson distribution."
      ]
    },
    {
      "cell_type": "markdown",
      "metadata": {
        "id": "vJG-44VY0-vC"
      },
      "source": [
        "###  1.1. Relationship between expression mean and fraction of zeros\n",
        "Compute actual and predicted gene expression. The higher the average expression of a gene, the smaller fraction of cells will show a 0 count. Plot the data and explain what you see in the plot.\n",
        "\n",
        "\n",
        "_(3 pts)_"
      ]
    },
    {
      "cell_type": "code",
      "execution_count": null,
      "metadata": {
        "id": "C_COLvl40-vD"
      },
      "outputs": [],
      "source": [
        "# ------------------------------------------------------\n",
        "# Compute actual and predicted gene expression (1 pt)\n",
        "# ------------------------------------------------------\n",
        "\n",
        "\n",
        "# Compute the average expression for each gene\n",
        "# Compute the fraction of zeros for each gene"
      ]
    },
    {
      "cell_type": "code",
      "execution_count": null,
      "metadata": {
        "id": "bx2JbW6V0-vD"
      },
      "outputs": [],
      "source": [
        "# Compute the Poisson prediction\n",
        "# (what is the expected fraction of zeros in a Poisson distribution with a given mean?)"
      ]
    },
    {
      "cell_type": "code",
      "execution_count": null,
      "metadata": {
        "id": "LuE-l3NB0-vD"
      },
      "outputs": [],
      "source": [
        "# --------------------------------------------------\n",
        "# plot the data and the Poisson prediction (1 pt)\n",
        "# --------------------------------------------------\n",
        "\n",
        "fig, ax = plt.subplots(figsize=(6, 4))\n",
        "# add plot"
      ]
    },
    {
      "cell_type": "markdown",
      "metadata": {
        "id": "TD6oO38N0-vD"
      },
      "source": [
        "_Explanation (1 pt)_\n",
        "..."
      ]
    },
    {
      "cell_type": "markdown",
      "metadata": {
        "id": "TDTuSizx0-vE"
      },
      "source": [
        "### 1.2. Mean-variance relationship\n",
        "\n",
        "If the expression follows Poisson distribution, then the mean should be equal to the variance. Plot the mean-variance relationship and interpret the plot.\n",
        "\n",
        "_(2.5 pts)_"
      ]
    },
    {
      "cell_type": "code",
      "execution_count": null,
      "metadata": {
        "id": "Qm96Gkls0-vE"
      },
      "outputs": [],
      "source": [
        "# -------------------------------------------------------------------\n",
        "# Compute the variance of the expression counts of each gene (0.5 pt)\n",
        "# -------------------------------------------------------------------"
      ]
    },
    {
      "cell_type": "code",
      "execution_count": null,
      "metadata": {
        "id": "7n6Y8eyb0-vE"
      },
      "outputs": [],
      "source": [
        "# -------------------------------------------------------------\n",
        "# Plot the mean-variance relationship on a log-log plot (1 pt)\n",
        "# Plot the Poisson prediction as a line\n",
        "# -------------------------------------------------------------\n",
        "\n",
        "fig, ax = plt.subplots(figsize=(6, 4))"
      ]
    },
    {
      "cell_type": "markdown",
      "metadata": {
        "id": "V6vj4nB50-vE"
      },
      "source": [
        "_Explanation (1 pt)_\n",
        "..."
      ]
    },
    {
      "cell_type": "markdown",
      "metadata": {
        "id": "9ZsJz1j10-vE"
      },
      "source": [
        "### 1.3. Relationship between the mean and the Fano factor\n",
        "\n",
        "Compute the Fano factor for each gene and make a scatter plot of expression mean vs. Fano factor in log-log coordinates, and interpret what you see in the plot. If the expression follows the Poisson distribution, then the Fano factor (variance/mean) should be equal to 1 for all genes.\n",
        "\n",
        "_(2.5 pts)_"
      ]
    },
    {
      "cell_type": "code",
      "execution_count": null,
      "metadata": {
        "id": "doWr_Brw0-vE"
      },
      "outputs": [],
      "source": [
        "# --------------------------------------------\n",
        "# Compute the Fano factor for each gene (0.5 pt)\n",
        "# --------------------------------------------\n",
        "\n",
        "fano ="
      ]
    },
    {
      "cell_type": "code",
      "execution_count": null,
      "metadata": {
        "id": "HbcoPQqu0-vF"
      },
      "outputs": [],
      "source": [
        "# -------------------------------\n",
        "# plot fano-factor vs mean (1 pt)\n",
        "# incl. fano factor\n",
        "# -------------------------------\n",
        "# Plot a Poisson prediction as line\n",
        "# Use the same style of plot as above.\n",
        "\n",
        "fig, ax = plt.subplots(figsize=(6, 4))"
      ]
    },
    {
      "cell_type": "markdown",
      "metadata": {
        "id": "OxutsS7x0-vF"
      },
      "source": [
        "_Explanation (1 pt)_\n",
        "..."
      ]
    },
    {
      "cell_type": "markdown",
      "metadata": {
        "id": "q03Wqltl0-vF"
      },
      "source": [
        "### 1.4. Histogram of sequencing depths\n",
        "\n",
        "Different cells have different sequencing depths (sum of counts across all genes) because the efficiency can change from droplet to droplet due to some random expreimental factors. Make a histogram of sequencing depths.\n",
        "\n",
        "_(1.5 pts)_"
      ]
    },
    {
      "cell_type": "code",
      "execution_count": null,
      "metadata": {
        "id": "ozNZUqtX0-vF"
      },
      "outputs": [],
      "source": [
        "# -------------------------------\n",
        "# Compute sequencing depth (0.5 pt)\n",
        "# -------------------------------\n"
      ]
    },
    {
      "cell_type": "code",
      "execution_count": null,
      "metadata": {
        "id": "4tsfx9G50-vF"
      },
      "outputs": [],
      "source": [
        "# ------------------------------------------\n",
        "# Plot histogram of sequencing depths (1 pt)\n",
        "# ------------------------------------------\n",
        "\n",
        "fig, ax = plt.subplots(figsize=(6, 4))"
      ]
    },
    {
      "cell_type": "markdown",
      "metadata": {
        "id": "C2DkIPtc0-vG"
      },
      "source": [
        "### 1.5. Fano factors after normalization\n",
        "\n",
        "Normalize counts by the sequencing depth of each cell and multiply by the median sequencing depth. Then make the same expression vs Fano factor plot as above. After normalization by sequencing depth, Fano factor should be closer to 1 (i.e. variance even more closely following the mean). This can be used for feature selection.\n",
        "\n",
        "_(2.5 pts)_"
      ]
    },
    {
      "cell_type": "code",
      "execution_count": null,
      "metadata": {
        "id": "kx--lakM0-vG"
      },
      "outputs": [],
      "source": [
        "# -------------------------------------------------\n",
        "# compute normalized counts and fano factor (1 pt)\n",
        "# -------------------------------------------------"
      ]
    },
    {
      "cell_type": "code",
      "execution_count": null,
      "metadata": {
        "id": "JtvQya050-vG"
      },
      "outputs": [],
      "source": [
        "# ----------------------------------------------------------\n",
        "# plot normalized counts and find the top 10 genes (1 pt)\n",
        "# hint: keep appropriate axis scaling in mind\n",
        "# ----------------------------------------------------------\n",
        "\n",
        "fig, ax = plt.subplots(figsize=(6, 4))\n",
        "# add plot"
      ]
    },
    {
      "cell_type": "code",
      "execution_count": null,
      "metadata": {
        "id": "-0G_iZet0-vG"
      },
      "outputs": [],
      "source": [
        "#--------------------------------------------------------------------\n",
        "# Find top-10 genes with the highest normalized Fano factor (0.5 pts)\n",
        "# Print them sorted by the Fano factor starting from the highest\n",
        "# Gene names are stored in the `genes` array\n",
        "#--------------------------------------------------------------------"
      ]
    },
    {
      "cell_type": "markdown",
      "metadata": {
        "id": "l1oUWhs50-vG"
      },
      "source": [
        "# Task 2: Low dimensional visualization\n",
        "\n",
        "In this task we will construct a two dimensional visualization of the data. First we will normalize the data with some variance stabilizing transformation and study the effect that different approaches have on the data. Second, we will reduce the dimensionality of the data to a more feasible number of dimensions (e.g. $d=50$) using PCA. And last, we will project the PCA-reduced data to two dimensions using t-SNE."
      ]
    },
    {
      "cell_type": "markdown",
      "metadata": {
        "id": "P05XjkpH0-vG"
      },
      "source": [
        "### 2.1. PCA with and without transformations\n",
        "\n",
        "Here we look at the influence of variance-stabilizing transformations on PCA. We will focus on the following transformations:\n",
        "- Square root (`sqrt(X)`): it is a variance-stabilizing transformation for the Poisson data.\n",
        "- Log-transform (`log2(X+1)`): it is also often used in the transcriptomic community.\n",
        "\n",
        "We will only work with the most important genes. For that, transform the counts into normalized counts (as above) and select all genes with normalized Fano factor above 3 and remove the rest. We will look at the effect that both transformations have in the PCA-projected data by visualizing the first two components. Interpret qualitatively what you see in the plot and compare the different embeddings making use of the ground truth clusters.\n",
        "\n",
        "_(3.5 pts)_"
      ]
    },
    {
      "cell_type": "code",
      "execution_count": null,
      "metadata": {
        "id": "7wow_IrQ0-vH"
      },
      "outputs": [],
      "source": [
        "# --------------------------------\n",
        "# Select important genes (0.5 pts)\n",
        "# --------------------------------\n"
      ]
    },
    {
      "cell_type": "code",
      "execution_count": null,
      "metadata": {
        "id": "BPpfCZtm0-vH"
      },
      "outputs": [],
      "source": [
        "# --------------------------------------\n",
        "# transform data and apply PCA (1 pt)\n",
        "# --------------------------------------\n",
        "\n",
        "from sklearn.decomposition import PCA\n",
        "\n",
        "# perform PCA"
      ]
    },
    {
      "cell_type": "code",
      "execution_count": null,
      "metadata": {
        "id": "b-G6Tsa20-vH"
      },
      "outputs": [],
      "source": [
        "# ------------------------------------------------\n",
        "# plot first 2 PCs for each transformation (1 pt)\n",
        "# ------------------------------------------------\n",
        "\n",
        "fig, axs = plt.subplots(1, 3, figsize=(9, 3))\n",
        "# add plot"
      ]
    },
    {
      "cell_type": "markdown",
      "metadata": {
        "id": "F0c-1Hsg0-vH"
      },
      "source": [
        "_Explanation (1 pt)_\n",
        "..."
      ]
    },
    {
      "cell_type": "markdown",
      "metadata": {
        "id": "jRcoSCn60-vH"
      },
      "source": [
        "### 2.2. tSNE with and without transformations\n",
        "\n",
        "Now, we will reduce the dimensionality of the PCA-reduced data further to two dimensions using t-SNE. We will use only $n=50$ components of the PCA-projected data. Plot the t-SNE embedding for the three versions of the data and interpret the plots. Do the different transformations have any effect on t-SNE?\n",
        "\n",
        "_(1.5 pts)_"
      ]
    },
    {
      "cell_type": "code",
      "execution_count": null,
      "metadata": {
        "id": "34PkGuOO0-vH"
      },
      "outputs": [],
      "source": [
        "# -----------------------\n",
        "# Perform tSNE (0.5 pts)\n",
        "# -----------------------"
      ]
    },
    {
      "cell_type": "code",
      "execution_count": null,
      "metadata": {
        "id": "y9zZBxCB0-vV"
      },
      "outputs": [],
      "source": [
        "# -----------------------------------------------\n",
        "# plot t-SNE embedding for each dataset (1 pt)\n",
        "# -----------------------------------------------\n",
        "\n",
        "fig, axs = plt.subplots(1, 3, figsize=(9, 3))\n",
        "# add plot"
      ]
    },
    {
      "cell_type": "markdown",
      "metadata": {
        "id": "oTR9vgVc0-vV"
      },
      "source": [
        "### 2.3. Leiden clustering\n",
        "\n",
        "Now we will play around with some clustering and see whether the clustering methods can produce similar results to the original clusters from the publication. We will apply Leiden clustering (closely related to the Louvain clustering), which is standard in the field and works well even for very large datasets.\n",
        "\n",
        "Choose one representation of the data (best transformation based in your results from the previous task) to use further in this task and justify your choice. Think about which level of dimensionality would be sensible to use to perform clustering. Visualize in the two-dimensional embedding the resulting clusters and compare to the original clusters.\n",
        "\n",
        "_(1.5 pts)_"
      ]
    },
    {
      "cell_type": "code",
      "execution_count": null,
      "metadata": {
        "id": "YrANuY8W0-vV"
      },
      "outputs": [],
      "source": [
        "# To run this code you need to install leidenalg and igraph\n",
        "# conda install -c conda-forge python-igraph leidenalg\n",
        "\n",
        "import igraph as ig\n",
        "from sklearn.neighbors import NearestNeighbors, kneighbors_graph\n",
        "import leidenalg as la"
      ]
    },
    {
      "cell_type": "code",
      "execution_count": null,
      "metadata": {
        "id": "qzYyyliZ0-vW"
      },
      "outputs": [],
      "source": [
        "# Define some contrast colors\n",
        "\n",
        "clusterCols = [\n",
        "    \"#FFFF00\",\n",
        "    \"#1CE6FF\",\n",
        "    \"#FF34FF\",\n",
        "    \"#FF4A46\",\n",
        "    \"#008941\",\n",
        "    \"#006FA6\",\n",
        "    \"#A30059\",\n",
        "    \"#FFDBE5\",\n",
        "    \"#7A4900\",\n",
        "    \"#0000A6\",\n",
        "    \"#63FFAC\",\n",
        "    \"#B79762\",\n",
        "    \"#004D43\",\n",
        "    \"#8FB0FF\",\n",
        "    \"#997D87\",\n",
        "    \"#5A0007\",\n",
        "    \"#809693\",\n",
        "    \"#FEFFE6\",\n",
        "    \"#1B4400\",\n",
        "    \"#4FC601\",\n",
        "    \"#3B5DFF\",\n",
        "    \"#4A3B53\",\n",
        "    \"#FF2F80\",\n",
        "    \"#61615A\",\n",
        "    \"#BA0900\",\n",
        "    \"#6B7900\",\n",
        "    \"#00C2A0\",\n",
        "    \"#FFAA92\",\n",
        "    \"#FF90C9\",\n",
        "    \"#B903AA\",\n",
        "    \"#D16100\",\n",
        "    \"#DDEFFF\",\n",
        "    \"#000035\",\n",
        "    \"#7B4F4B\",\n",
        "    \"#A1C299\",\n",
        "    \"#300018\",\n",
        "    \"#0AA6D8\",\n",
        "    \"#013349\",\n",
        "    \"#00846F\",\n",
        "    \"#372101\",\n",
        "    \"#FFB500\",\n",
        "    \"#C2FFED\",\n",
        "    \"#A079BF\",\n",
        "    \"#CC0744\",\n",
        "    \"#C0B9B2\",\n",
        "    \"#C2FF99\",\n",
        "    \"#001E09\",\n",
        "    \"#00489C\",\n",
        "    \"#6F0062\",\n",
        "    \"#0CBD66\",\n",
        "    \"#EEC3FF\",\n",
        "    \"#456D75\",\n",
        "    \"#B77B68\",\n",
        "    \"#7A87A1\",\n",
        "    \"#788D66\",\n",
        "    \"#885578\",\n",
        "    \"#FAD09F\",\n",
        "    \"#FF8A9A\",\n",
        "    \"#D157A0\",\n",
        "    \"#BEC459\",\n",
        "    \"#456648\",\n",
        "    \"#0086ED\",\n",
        "    \"#886F4C\",\n",
        "    \"#34362D\",\n",
        "    \"#B4A8BD\",\n",
        "    \"#00A6AA\",\n",
        "    \"#452C2C\",\n",
        "    \"#636375\",\n",
        "    \"#A3C8C9\",\n",
        "    \"#FF913F\",\n",
        "    \"#938A81\",\n",
        "    \"#575329\",\n",
        "    \"#00FECF\",\n",
        "    \"#B05B6F\",\n",
        "    \"#8CD0FF\",\n",
        "    \"#3B9700\",\n",
        "    \"#04F757\",\n",
        "    \"#C8A1A1\",\n",
        "    \"#1E6E00\",\n",
        "    \"#7900D7\",\n",
        "    \"#A77500\",\n",
        "    \"#6367A9\",\n",
        "    \"#A05837\",\n",
        "    \"#6B002C\",\n",
        "    \"#772600\",\n",
        "    \"#D790FF\",\n",
        "    \"#9B9700\",\n",
        "    \"#549E79\",\n",
        "    \"#FFF69F\",\n",
        "    \"#201625\",\n",
        "    \"#72418F\",\n",
        "    \"#BC23FF\",\n",
        "    \"#99ADC0\",\n",
        "    \"#3A2465\",\n",
        "    \"#922329\",\n",
        "    \"#5B4534\",\n",
        "    \"#FDE8DC\",\n",
        "    \"#404E55\",\n",
        "    \"#0089A3\",\n",
        "    \"#CB7E98\",\n",
        "    \"#A4E804\",\n",
        "    \"#324E72\",\n",
        "    \"#6A3A4C\",\n",
        "    \"#83AB58\",\n",
        "    \"#001C1E\",\n",
        "    \"#D1F7CE\",\n",
        "    \"#004B28\",\n",
        "    \"#C8D0F6\",\n",
        "    \"#A3A489\",\n",
        "    \"#806C66\",\n",
        "    \"#222800\",\n",
        "    \"#BF5650\",\n",
        "    \"#E83000\",\n",
        "    \"#66796D\",\n",
        "    \"#DA007C\",\n",
        "    \"#FF1A59\",\n",
        "    \"#8ADBB4\",\n",
        "    \"#1E0200\",\n",
        "    \"#5B4E51\",\n",
        "    \"#C895C5\",\n",
        "    \"#320033\",\n",
        "    \"#FF6832\",\n",
        "    \"#66E1D3\",\n",
        "    \"#CFCDAC\",\n",
        "    \"#D0AC94\",\n",
        "    \"#7ED379\",\n",
        "    \"#012C58\",\n",
        "]\n",
        "\n",
        "clusterCols = np.array(clusterCols)"
      ]
    },
    {
      "cell_type": "code",
      "execution_count": null,
      "metadata": {
        "id": "i_dCralv0-vW"
      },
      "outputs": [],
      "source": [
        "# ------------------------------------------------------\n",
        "# create graph and run leiden clustering on it (0.5 pts)\n",
        "# hint: use `la?`, `la.find_partition?` and `ig.Graph?`\n",
        "# to find out more about the provided packages.\n",
        "# ------------------------------------------------------\n",
        "\n",
        "# Construct kNN graph with k=15\n",
        "\n",
        "A =\n",
        "\n",
        "# Transform it into an igraph object\n",
        "\n",
        "sources, targets = A.nonzero()\n",
        "\n",
        "# Run Leiden clustering\n",
        "# you can use `la.RBConfigurationVertexPartition` as the partition type"
      ]
    },
    {
      "cell_type": "code",
      "execution_count": null,
      "metadata": {
        "id": "pj1qgJBQ0-vW"
      },
      "outputs": [],
      "source": [
        "# --------------------------\n",
        "# Plot the results (1 pt)\n",
        "# --------------------------\n",
        "\n",
        "fig, ax = plt.subplots(figsize=(4, 4))"
      ]
    },
    {
      "cell_type": "markdown",
      "metadata": {
        "id": "O28hwAsA0-vW"
      },
      "source": [
        "### 2.4. Change the clustering resolution\n",
        "\n",
        "The number of clusters can be changed by modifying the resolution parameter. How many clusters did we get with the default value? Change the resolution parameter to yield 2x more and 2x fewer clusters\n",
        "Plot all three results as t-SNE overlays (same as above).\n",
        "\n",
        "_(1.5 pts)_"
      ]
    },
    {
      "cell_type": "code",
      "execution_count": null,
      "metadata": {
        "id": "yaIO4UDP0-vX"
      },
      "outputs": [],
      "source": [
        "# ------------------------------------------------------------------\n",
        "# run the clustering for 3 different resolution parameters (0.5 pts)\n",
        "# ------------------------------------------------------------------"
      ]
    },
    {
      "cell_type": "code",
      "execution_count": null,
      "metadata": {
        "id": "b88bLmtf0-vX"
      },
      "outputs": [],
      "source": [
        "# --------------------------\n",
        "# Plot the results (1 pt)\n",
        "# --------------------------\n",
        "\n",
        "fig, axs = plt.subplots(1, 3, figsize=(9, 3))\n",
        "# add plot"
      ]
    }
  ],
  "metadata": {
    "kernelspec": {
      "display_name": "tue-summer-2025-oasis",
      "language": "python",
      "name": "python3"
    },
    "language_info": {
      "codemirror_mode": {
        "name": "ipython",
        "version": 3
      },
      "file_extension": ".py",
      "mimetype": "text/x-python",
      "name": "python",
      "nbconvert_exporter": "python",
      "pygments_lexer": "ipython3",
      "version": "3.11.11"
    },
    "colab": {
      "provenance": [],
      "toc_visible": true,
      "include_colab_link": true
    }
  },
  "nbformat": 4,
  "nbformat_minor": 0
}